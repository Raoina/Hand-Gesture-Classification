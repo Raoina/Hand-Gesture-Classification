{
  "nbformat": 4,
  "nbformat_minor": 0,
  "metadata": {
    "colab": {
      "provenance": [],
      "include_colab_link": true
    },
    "kernelspec": {
      "name": "python3",
      "display_name": "Python 3"
    },
    "language_info": {
      "name": "python"
    }
  },
  "cells": [
    {
      "cell_type": "markdown",
      "metadata": {
        "id": "view-in-github",
        "colab_type": "text"
      },
      "source": [
        "<a href=\"https://colab.research.google.com/github/Raoina/Hand-Gesture-Classification/blob/main/project_ml1_hand_gesture_classification.ipynb\" target=\"_parent\"><img src=\"https://colab.research.google.com/assets/colab-badge.svg\" alt=\"Open In Colab\"/></a>"
      ]
    },
    {
      "cell_type": "markdown",
      "source": [
        "# 1. Import Required Libraries"
      ],
      "metadata": {
        "id": "9TpQTuRrgOP3"
      }
    },
    {
      "cell_type": "code",
      "execution_count": 7,
      "metadata": {
        "id": "quyLVUaH6eoM"
      },
      "outputs": [],
      "source": [
        "import pandas as pd\n",
        "import numpy as np\n",
        "import matplotlib.pyplot as plt\n",
        "import seaborn as sns\n",
        "from sklearn.model_selection import train_test_split\n",
        "from sklearn.ensemble import RandomForestClassifier\n",
        "from sklearn.svm import SVC\n",
        "from sklearn.neighbors import KNeighborsClassifier\n",
        "from sklearn.metrics import classification_report, confusion_matrix\n",
        "from sklearn.preprocessing import LabelEncoder, StandardScaler"
      ]
    },
    {
      "cell_type": "code",
      "source": [
        "df = pd.read_csv('/content/hand_landmarks_data.csv')\n",
        "df.head()"
      ],
      "metadata": {
        "colab": {
          "base_uri": "https://localhost:8080/",
          "height": 342
        },
        "id": "zy9fRbwOgIHh",
        "outputId": "cf07bc39-af55-4195-b349-370741f884c9"
      },
      "execution_count": 8,
      "outputs": [
        {
          "output_type": "execute_result",
          "data": {
            "text/plain": [
              "           x1          y1            z1          x2          y2        z2  \\\n",
              "0  262.669968  257.304901 -3.649205e-07  257.417542  247.109055  0.004224   \n",
              "1   83.351778  346.059113 -2.345265e-07   81.925037  328.562347 -0.011102   \n",
              "2  187.756977  260.235492 -2.417307e-07  195.460579  241.506035 -0.000184   \n",
              "3  114.976696  331.594238 -1.233261e-07  114.503494  320.549957 -0.002824   \n",
              "4  188.795288  141.727867 -1.622995e-07  188.520905  127.947464 -0.002884   \n",
              "\n",
              "           x3          y3        z3          x4  ...         x19         y19  \\\n",
              "0  246.882957  241.716827  0.005798  236.384537  ...  223.345093  255.490692   \n",
              "1   90.080132  311.535248 -0.021096   95.641823  ...  132.451618  341.794434   \n",
              "2  207.259529  223.674339 -0.009687  215.413628  ...  250.301010  268.602938   \n",
              "3  116.636627  310.080994 -0.008911  117.685066  ...  145.195450  329.357544   \n",
              "4  191.982880  111.010563 -0.008115  192.552521  ...  226.696396  132.263248   \n",
              "\n",
              "        z19         x20         y20       z20         x21         y21  \\\n",
              "0 -0.020450  215.043365  258.114746 -0.024577  208.006393  259.608673   \n",
              "1 -0.038175  142.773582  342.829254 -0.037336  152.431698  343.015991   \n",
              "2 -0.044068  262.425133  271.276638 -0.040469  272.989952  272.272231   \n",
              "3 -0.027622  151.053200  329.712341 -0.027863  155.990364  329.548828   \n",
              "4 -0.025113  234.831741  130.684147 -0.024087  241.587769  128.477188   \n",
              "\n",
              "        z21  label  \n",
              "0 -0.026722   call  \n",
              "1 -0.036136   call  \n",
              "2 -0.038301   call  \n",
              "3 -0.027723   call  \n",
              "4 -0.023486   call  \n",
              "\n",
              "[5 rows x 64 columns]"
            ],
            "text/html": [
              "\n",
              "  <div id=\"df-e84ed639-4d21-471b-a59d-3d11741af66e\" class=\"colab-df-container\">\n",
              "    <div>\n",
              "<style scoped>\n",
              "    .dataframe tbody tr th:only-of-type {\n",
              "        vertical-align: middle;\n",
              "    }\n",
              "\n",
              "    .dataframe tbody tr th {\n",
              "        vertical-align: top;\n",
              "    }\n",
              "\n",
              "    .dataframe thead th {\n",
              "        text-align: right;\n",
              "    }\n",
              "</style>\n",
              "<table border=\"1\" class=\"dataframe\">\n",
              "  <thead>\n",
              "    <tr style=\"text-align: right;\">\n",
              "      <th></th>\n",
              "      <th>x1</th>\n",
              "      <th>y1</th>\n",
              "      <th>z1</th>\n",
              "      <th>x2</th>\n",
              "      <th>y2</th>\n",
              "      <th>z2</th>\n",
              "      <th>x3</th>\n",
              "      <th>y3</th>\n",
              "      <th>z3</th>\n",
              "      <th>x4</th>\n",
              "      <th>...</th>\n",
              "      <th>x19</th>\n",
              "      <th>y19</th>\n",
              "      <th>z19</th>\n",
              "      <th>x20</th>\n",
              "      <th>y20</th>\n",
              "      <th>z20</th>\n",
              "      <th>x21</th>\n",
              "      <th>y21</th>\n",
              "      <th>z21</th>\n",
              "      <th>label</th>\n",
              "    </tr>\n",
              "  </thead>\n",
              "  <tbody>\n",
              "    <tr>\n",
              "      <th>0</th>\n",
              "      <td>262.669968</td>\n",
              "      <td>257.304901</td>\n",
              "      <td>-3.649205e-07</td>\n",
              "      <td>257.417542</td>\n",
              "      <td>247.109055</td>\n",
              "      <td>0.004224</td>\n",
              "      <td>246.882957</td>\n",
              "      <td>241.716827</td>\n",
              "      <td>0.005798</td>\n",
              "      <td>236.384537</td>\n",
              "      <td>...</td>\n",
              "      <td>223.345093</td>\n",
              "      <td>255.490692</td>\n",
              "      <td>-0.020450</td>\n",
              "      <td>215.043365</td>\n",
              "      <td>258.114746</td>\n",
              "      <td>-0.024577</td>\n",
              "      <td>208.006393</td>\n",
              "      <td>259.608673</td>\n",
              "      <td>-0.026722</td>\n",
              "      <td>call</td>\n",
              "    </tr>\n",
              "    <tr>\n",
              "      <th>1</th>\n",
              "      <td>83.351778</td>\n",
              "      <td>346.059113</td>\n",
              "      <td>-2.345265e-07</td>\n",
              "      <td>81.925037</td>\n",
              "      <td>328.562347</td>\n",
              "      <td>-0.011102</td>\n",
              "      <td>90.080132</td>\n",
              "      <td>311.535248</td>\n",
              "      <td>-0.021096</td>\n",
              "      <td>95.641823</td>\n",
              "      <td>...</td>\n",
              "      <td>132.451618</td>\n",
              "      <td>341.794434</td>\n",
              "      <td>-0.038175</td>\n",
              "      <td>142.773582</td>\n",
              "      <td>342.829254</td>\n",
              "      <td>-0.037336</td>\n",
              "      <td>152.431698</td>\n",
              "      <td>343.015991</td>\n",
              "      <td>-0.036136</td>\n",
              "      <td>call</td>\n",
              "    </tr>\n",
              "    <tr>\n",
              "      <th>2</th>\n",
              "      <td>187.756977</td>\n",
              "      <td>260.235492</td>\n",
              "      <td>-2.417307e-07</td>\n",
              "      <td>195.460579</td>\n",
              "      <td>241.506035</td>\n",
              "      <td>-0.000184</td>\n",
              "      <td>207.259529</td>\n",
              "      <td>223.674339</td>\n",
              "      <td>-0.009687</td>\n",
              "      <td>215.413628</td>\n",
              "      <td>...</td>\n",
              "      <td>250.301010</td>\n",
              "      <td>268.602938</td>\n",
              "      <td>-0.044068</td>\n",
              "      <td>262.425133</td>\n",
              "      <td>271.276638</td>\n",
              "      <td>-0.040469</td>\n",
              "      <td>272.989952</td>\n",
              "      <td>272.272231</td>\n",
              "      <td>-0.038301</td>\n",
              "      <td>call</td>\n",
              "    </tr>\n",
              "    <tr>\n",
              "      <th>3</th>\n",
              "      <td>114.976696</td>\n",
              "      <td>331.594238</td>\n",
              "      <td>-1.233261e-07</td>\n",
              "      <td>114.503494</td>\n",
              "      <td>320.549957</td>\n",
              "      <td>-0.002824</td>\n",
              "      <td>116.636627</td>\n",
              "      <td>310.080994</td>\n",
              "      <td>-0.008911</td>\n",
              "      <td>117.685066</td>\n",
              "      <td>...</td>\n",
              "      <td>145.195450</td>\n",
              "      <td>329.357544</td>\n",
              "      <td>-0.027622</td>\n",
              "      <td>151.053200</td>\n",
              "      <td>329.712341</td>\n",
              "      <td>-0.027863</td>\n",
              "      <td>155.990364</td>\n",
              "      <td>329.548828</td>\n",
              "      <td>-0.027723</td>\n",
              "      <td>call</td>\n",
              "    </tr>\n",
              "    <tr>\n",
              "      <th>4</th>\n",
              "      <td>188.795288</td>\n",
              "      <td>141.727867</td>\n",
              "      <td>-1.622995e-07</td>\n",
              "      <td>188.520905</td>\n",
              "      <td>127.947464</td>\n",
              "      <td>-0.002884</td>\n",
              "      <td>191.982880</td>\n",
              "      <td>111.010563</td>\n",
              "      <td>-0.008115</td>\n",
              "      <td>192.552521</td>\n",
              "      <td>...</td>\n",
              "      <td>226.696396</td>\n",
              "      <td>132.263248</td>\n",
              "      <td>-0.025113</td>\n",
              "      <td>234.831741</td>\n",
              "      <td>130.684147</td>\n",
              "      <td>-0.024087</td>\n",
              "      <td>241.587769</td>\n",
              "      <td>128.477188</td>\n",
              "      <td>-0.023486</td>\n",
              "      <td>call</td>\n",
              "    </tr>\n",
              "  </tbody>\n",
              "</table>\n",
              "<p>5 rows × 64 columns</p>\n",
              "</div>\n",
              "    <div class=\"colab-df-buttons\">\n",
              "\n",
              "  <div class=\"colab-df-container\">\n",
              "    <button class=\"colab-df-convert\" onclick=\"convertToInteractive('df-e84ed639-4d21-471b-a59d-3d11741af66e')\"\n",
              "            title=\"Convert this dataframe to an interactive table.\"\n",
              "            style=\"display:none;\">\n",
              "\n",
              "  <svg xmlns=\"http://www.w3.org/2000/svg\" height=\"24px\" viewBox=\"0 -960 960 960\">\n",
              "    <path d=\"M120-120v-720h720v720H120Zm60-500h600v-160H180v160Zm220 220h160v-160H400v160Zm0 220h160v-160H400v160ZM180-400h160v-160H180v160Zm440 0h160v-160H620v160ZM180-180h160v-160H180v160Zm440 0h160v-160H620v160Z\"/>\n",
              "  </svg>\n",
              "    </button>\n",
              "\n",
              "  <style>\n",
              "    .colab-df-container {\n",
              "      display:flex;\n",
              "      gap: 12px;\n",
              "    }\n",
              "\n",
              "    .colab-df-convert {\n",
              "      background-color: #E8F0FE;\n",
              "      border: none;\n",
              "      border-radius: 50%;\n",
              "      cursor: pointer;\n",
              "      display: none;\n",
              "      fill: #1967D2;\n",
              "      height: 32px;\n",
              "      padding: 0 0 0 0;\n",
              "      width: 32px;\n",
              "    }\n",
              "\n",
              "    .colab-df-convert:hover {\n",
              "      background-color: #E2EBFA;\n",
              "      box-shadow: 0px 1px 2px rgba(60, 64, 67, 0.3), 0px 1px 3px 1px rgba(60, 64, 67, 0.15);\n",
              "      fill: #174EA6;\n",
              "    }\n",
              "\n",
              "    .colab-df-buttons div {\n",
              "      margin-bottom: 4px;\n",
              "    }\n",
              "\n",
              "    [theme=dark] .colab-df-convert {\n",
              "      background-color: #3B4455;\n",
              "      fill: #D2E3FC;\n",
              "    }\n",
              "\n",
              "    [theme=dark] .colab-df-convert:hover {\n",
              "      background-color: #434B5C;\n",
              "      box-shadow: 0px 1px 3px 1px rgba(0, 0, 0, 0.15);\n",
              "      filter: drop-shadow(0px 1px 2px rgba(0, 0, 0, 0.3));\n",
              "      fill: #FFFFFF;\n",
              "    }\n",
              "  </style>\n",
              "\n",
              "    <script>\n",
              "      const buttonEl =\n",
              "        document.querySelector('#df-e84ed639-4d21-471b-a59d-3d11741af66e button.colab-df-convert');\n",
              "      buttonEl.style.display =\n",
              "        google.colab.kernel.accessAllowed ? 'block' : 'none';\n",
              "\n",
              "      async function convertToInteractive(key) {\n",
              "        const element = document.querySelector('#df-e84ed639-4d21-471b-a59d-3d11741af66e');\n",
              "        const dataTable =\n",
              "          await google.colab.kernel.invokeFunction('convertToInteractive',\n",
              "                                                    [key], {});\n",
              "        if (!dataTable) return;\n",
              "\n",
              "        const docLinkHtml = 'Like what you see? Visit the ' +\n",
              "          '<a target=\"_blank\" href=https://colab.research.google.com/notebooks/data_table.ipynb>data table notebook</a>'\n",
              "          + ' to learn more about interactive tables.';\n",
              "        element.innerHTML = '';\n",
              "        dataTable['output_type'] = 'display_data';\n",
              "        await google.colab.output.renderOutput(dataTable, element);\n",
              "        const docLink = document.createElement('div');\n",
              "        docLink.innerHTML = docLinkHtml;\n",
              "        element.appendChild(docLink);\n",
              "      }\n",
              "    </script>\n",
              "  </div>\n",
              "\n",
              "\n",
              "<div id=\"df-ccb11f50-c6b7-4af1-9485-c527bbc2fa38\">\n",
              "  <button class=\"colab-df-quickchart\" onclick=\"quickchart('df-ccb11f50-c6b7-4af1-9485-c527bbc2fa38')\"\n",
              "            title=\"Suggest charts\"\n",
              "            style=\"display:none;\">\n",
              "\n",
              "<svg xmlns=\"http://www.w3.org/2000/svg\" height=\"24px\"viewBox=\"0 0 24 24\"\n",
              "     width=\"24px\">\n",
              "    <g>\n",
              "        <path d=\"M19 3H5c-1.1 0-2 .9-2 2v14c0 1.1.9 2 2 2h14c1.1 0 2-.9 2-2V5c0-1.1-.9-2-2-2zM9 17H7v-7h2v7zm4 0h-2V7h2v10zm4 0h-2v-4h2v4z\"/>\n",
              "    </g>\n",
              "</svg>\n",
              "  </button>\n",
              "\n",
              "<style>\n",
              "  .colab-df-quickchart {\n",
              "      --bg-color: #E8F0FE;\n",
              "      --fill-color: #1967D2;\n",
              "      --hover-bg-color: #E2EBFA;\n",
              "      --hover-fill-color: #174EA6;\n",
              "      --disabled-fill-color: #AAA;\n",
              "      --disabled-bg-color: #DDD;\n",
              "  }\n",
              "\n",
              "  [theme=dark] .colab-df-quickchart {\n",
              "      --bg-color: #3B4455;\n",
              "      --fill-color: #D2E3FC;\n",
              "      --hover-bg-color: #434B5C;\n",
              "      --hover-fill-color: #FFFFFF;\n",
              "      --disabled-bg-color: #3B4455;\n",
              "      --disabled-fill-color: #666;\n",
              "  }\n",
              "\n",
              "  .colab-df-quickchart {\n",
              "    background-color: var(--bg-color);\n",
              "    border: none;\n",
              "    border-radius: 50%;\n",
              "    cursor: pointer;\n",
              "    display: none;\n",
              "    fill: var(--fill-color);\n",
              "    height: 32px;\n",
              "    padding: 0;\n",
              "    width: 32px;\n",
              "  }\n",
              "\n",
              "  .colab-df-quickchart:hover {\n",
              "    background-color: var(--hover-bg-color);\n",
              "    box-shadow: 0 1px 2px rgba(60, 64, 67, 0.3), 0 1px 3px 1px rgba(60, 64, 67, 0.15);\n",
              "    fill: var(--button-hover-fill-color);\n",
              "  }\n",
              "\n",
              "  .colab-df-quickchart-complete:disabled,\n",
              "  .colab-df-quickchart-complete:disabled:hover {\n",
              "    background-color: var(--disabled-bg-color);\n",
              "    fill: var(--disabled-fill-color);\n",
              "    box-shadow: none;\n",
              "  }\n",
              "\n",
              "  .colab-df-spinner {\n",
              "    border: 2px solid var(--fill-color);\n",
              "    border-color: transparent;\n",
              "    border-bottom-color: var(--fill-color);\n",
              "    animation:\n",
              "      spin 1s steps(1) infinite;\n",
              "  }\n",
              "\n",
              "  @keyframes spin {\n",
              "    0% {\n",
              "      border-color: transparent;\n",
              "      border-bottom-color: var(--fill-color);\n",
              "      border-left-color: var(--fill-color);\n",
              "    }\n",
              "    20% {\n",
              "      border-color: transparent;\n",
              "      border-left-color: var(--fill-color);\n",
              "      border-top-color: var(--fill-color);\n",
              "    }\n",
              "    30% {\n",
              "      border-color: transparent;\n",
              "      border-left-color: var(--fill-color);\n",
              "      border-top-color: var(--fill-color);\n",
              "      border-right-color: var(--fill-color);\n",
              "    }\n",
              "    40% {\n",
              "      border-color: transparent;\n",
              "      border-right-color: var(--fill-color);\n",
              "      border-top-color: var(--fill-color);\n",
              "    }\n",
              "    60% {\n",
              "      border-color: transparent;\n",
              "      border-right-color: var(--fill-color);\n",
              "    }\n",
              "    80% {\n",
              "      border-color: transparent;\n",
              "      border-right-color: var(--fill-color);\n",
              "      border-bottom-color: var(--fill-color);\n",
              "    }\n",
              "    90% {\n",
              "      border-color: transparent;\n",
              "      border-bottom-color: var(--fill-color);\n",
              "    }\n",
              "  }\n",
              "</style>\n",
              "\n",
              "  <script>\n",
              "    async function quickchart(key) {\n",
              "      const quickchartButtonEl =\n",
              "        document.querySelector('#' + key + ' button');\n",
              "      quickchartButtonEl.disabled = true;  // To prevent multiple clicks.\n",
              "      quickchartButtonEl.classList.add('colab-df-spinner');\n",
              "      try {\n",
              "        const charts = await google.colab.kernel.invokeFunction(\n",
              "            'suggestCharts', [key], {});\n",
              "      } catch (error) {\n",
              "        console.error('Error during call to suggestCharts:', error);\n",
              "      }\n",
              "      quickchartButtonEl.classList.remove('colab-df-spinner');\n",
              "      quickchartButtonEl.classList.add('colab-df-quickchart-complete');\n",
              "    }\n",
              "    (() => {\n",
              "      let quickchartButtonEl =\n",
              "        document.querySelector('#df-ccb11f50-c6b7-4af1-9485-c527bbc2fa38 button');\n",
              "      quickchartButtonEl.style.display =\n",
              "        google.colab.kernel.accessAllowed ? 'block' : 'none';\n",
              "    })();\n",
              "  </script>\n",
              "</div>\n",
              "\n",
              "    </div>\n",
              "  </div>\n"
            ],
            "application/vnd.google.colaboratory.intrinsic+json": {
              "type": "dataframe",
              "variable_name": "df"
            }
          },
          "metadata": {},
          "execution_count": 8
        }
      ]
    },
    {
      "cell_type": "code",
      "source": [
        "import matplotlib.pyplot as plt\n",
        "import seaborn as sns\n",
        "\n",
        "plt.figure(figsize=(10, 5))\n",
        "sns.countplot(x=df[\"label\"], order=df[\"label\"].value_counts().index)\n",
        "plt.xticks(rotation=90)\n",
        "plt.title(\"Distribution of Hand Gestures\")\n",
        "plt.show()"
      ],
      "metadata": {
        "colab": {
          "base_uri": "https://localhost:8080/",
          "height": 517
        },
        "id": "n2qLCkBOlIW4",
        "outputId": "8bb93b7c-5db6-47e4-c21a-9cc79a40f6b9"
      },
      "execution_count": 9,
      "outputs": [
        {
          "output_type": "display_data",
          "data": {
            "text/plain": [
              "<Figure size 1000x500 with 1 Axes>"
            ],
            "image/png": "[encoded data removed]"
          },
          "metadata": {}
        }
      ]
    },
    {
      "cell_type": "code",
      "source": [
        "df.dropna(inplace=True)"
      ],
      "metadata": {
        "id": "MAnCay37gl0u"
      },
      "execution_count": 10,
      "outputs": []
    },
    {
      "cell_type": "code",
      "source": [
        "le = LabelEncoder()\n",
        "df['label'] = le.fit_transform(df['label'])"
      ],
      "metadata": {
        "id": "qcGHnzwEgpKp"
      },
      "execution_count": 11,
      "outputs": []
    },
    {
      "cell_type": "code",
      "source": [
        "def preprocess_landmarks(row):\n",
        "    wrist_x, wrist_y = row[0], row[1]\n",
        "    mid_finger_x, mid_finger_y = row[36], row[37]  # Tip of the middle finger (landmark 12)\n",
        "\n",
        "    processed = []\n",
        "    for i in range(0, 63, 3):  # x, y, z for 21 landmarks\n",
        "        x = row[i] - wrist_x\n",
        "        y = row[i+1] - wrist_y\n",
        "        x /= mid_finger_x - wrist_x\n",
        "        y /= mid_finger_y - wrist_y\n",
        "        z = row[i+2]  # z is already processed\n",
        "        processed.extend([x, y, z])\n",
        "    return processed\n",
        "\n",
        "features = df.drop('label', axis=1)\n",
        "labels = df['label']\n",
        "processed_features = features.apply(preprocess_landmarks, axis=1, result_type='expand')"
      ],
      "metadata": {
        "colab": {
          "base_uri": "https://localhost:8080/"
        },
        "id": "MwM4oFX5gsPv",
        "outputId": "ed30beab-9c53-4ea9-e2be-622546e7ae51"
      },
      "execution_count": 12,
      "outputs": [
        {
          "output_type": "stream",
          "name": "stderr",
          "text": [
            "<ipython-input-12-1c96881a32e3>:2: FutureWarning: Series.__getitem__ treating keys as positions is deprecated. In a future version, integer keys will always be treated as labels (consistent with DataFrame behavior). To access a value by position, use `ser.iloc[pos]`\n",
            "  wrist_x, wrist_y = row[0], row[1]\n",
            "<ipython-input-12-1c96881a32e3>:3: FutureWarning: Series.__getitem__ treating keys as positions is deprecated. In a future version, integer keys will always be treated as labels (consistent with DataFrame behavior). To access a value by position, use `ser.iloc[pos]`\n",
            "  mid_finger_x, mid_finger_y = row[36], row[37]  # Tip of the middle finger (landmark 12)\n",
            "<ipython-input-12-1c96881a32e3>:7: FutureWarning: Series.__getitem__ treating keys as positions is deprecated. In a future version, integer keys will always be treated as labels (consistent with DataFrame behavior). To access a value by position, use `ser.iloc[pos]`\n",
            "  x = row[i] - wrist_x\n",
            "<ipython-input-12-1c96881a32e3>:8: FutureWarning: Series.__getitem__ treating keys as positions is deprecated. In a future version, integer keys will always be treated as labels (consistent with DataFrame behavior). To access a value by position, use `ser.iloc[pos]`\n",
            "  y = row[i+1] - wrist_y\n",
            "<ipython-input-12-1c96881a32e3>:11: FutureWarning: Series.__getitem__ treating keys as positions is deprecated. In a future version, integer keys will always be treated as labels (consistent with DataFrame behavior). To access a value by position, use `ser.iloc[pos]`\n",
            "  z = row[i+2]  # z is already processed\n"
          ]
        }
      ]
    },
    {
      "cell_type": "code",
      "source": [
        "def plot_hand(points, title=\"Hand Landmarks\"):\n",
        "    x = points[::3]\n",
        "    y = points[1::3]\n",
        "    plt.figure(figsize=(4,4))\n",
        "    plt.scatter(x, y)\n",
        "    plt.gca().invert_yaxis()\n",
        "    plt.title(title)\n",
        "    plt.show()\n",
        "\n",
        "plot_hand(processed_features.iloc[0].values, title=\"Sample Hand\")"
      ],
      "metadata": {
        "colab": {
          "base_uri": "https://localhost:8080/",
          "height": 391
        },
        "id": "BumzuvnLgwEn",
        "outputId": "c01e982d-8060-48bb-8a22-b4d2e4aa043f"
      },
      "execution_count": 13,
      "outputs": [
        {
          "output_type": "display_data",
          "data": {
            "text/plain": [
              "<Figure size 400x400 with 1 Axes>"
            ],
            "image/png": "[encoded data removed]"
          },
          "metadata": {}
        }
      ]
    },
    {
      "cell_type": "code",
      "source": [
        "X_train, X_test, y_train, y_test = train_test_split(\n",
        "    processed_features, labels, test_size=0.2, random_state=42, stratify=labels\n",
        ")"
      ],
      "metadata": {
        "id": "7W4wm39Wgzc-"
      },
      "execution_count": 14,
      "outputs": []
    },
    {
      "cell_type": "code",
      "source": [
        "rf = RandomForestClassifier()\n",
        "rf.fit(X_train, y_train)\n",
        "y_pred_rf = rf.predict(X_test)"
      ],
      "metadata": {
        "id": "6PaZY7nag3bT"
      },
      "execution_count": 15,
      "outputs": []
    },
    {
      "cell_type": "code",
      "source": [
        "svm = SVC()\n",
        "svm.fit(X_train, y_train)\n",
        "y_pred_svm = svm.predict(X_test)"
      ],
      "metadata": {
        "id": "b4CyjBJog6GU"
      },
      "execution_count": 16,
      "outputs": []
    },
    {
      "cell_type": "code",
      "source": [
        "knn = KNeighborsClassifier()\n",
        "knn.fit(X_train, y_train)\n",
        "y_pred_knn = knn.predict(X_test)"
      ],
      "metadata": {
        "id": "TO4z5Rh3g9cC"
      },
      "execution_count": 17,
      "outputs": []
    },
    {
      "cell_type": "code",
      "source": [
        "def evaluate_model(y_test, y_pred, model_name):\n",
        "    print(f\"--- {model_name} ---\")\n",
        "    print(classification_report(y_test, y_pred, target_names=le.classes_))\n",
        "    cm = confusion_matrix(y_test, y_pred)\n",
        "    plt.figure(figsize=(10, 8))\n",
        "    sns.heatmap(cm, annot=True, fmt='d', xticklabels=le.classes_, yticklabels=le.classes_)\n",
        "    plt.title(f'{model_name} Confusion Matrix')\n",
        "    plt.ylabel('Actual')\n",
        "    plt.xlabel('Predicted')\n",
        "    plt.show()\n",
        "\n",
        "evaluate_model(y_test, y_pred_rf, \"Random Forest\")\n",
        "evaluate_model(y_test, y_pred_svm, \"SVM\")\n",
        "evaluate_model(y_test, y_pred_knn, \"KNN\")\n"
      ],
      "metadata": {
        "colab": {
          "base_uri": "https://localhost:8080/",
          "height": 1000
        },
        "id": "Mdzvi8uihJcQ",
        "outputId": "fb98f7b8-a50c-4f18-ebf5-3dea4d04d054"
      },
      "execution_count": 18,
      "outputs": [
        {
          "output_type": "stream",
          "name": "stdout",
          "text": [
            "--- Random Forest ---\n",
            "              precision    recall  f1-score   support\n",
            "\n",
            "        call       0.99      0.99      0.99       301\n",
            "     dislike       0.98      0.98      0.98       259\n",
            "        fist       1.00      0.99      1.00       189\n",
            "        four       0.99      1.00      1.00       327\n",
            "        like       0.97      0.98      0.97       287\n",
            "        mute       1.00      1.00      1.00       218\n",
            "          ok       1.00      0.99      1.00       284\n",
            "\n",
            "    accuracy                           0.99      1865\n",
            "   macro avg       0.99      0.99      0.99      1865\n",
            "weighted avg       0.99      0.99      0.99      1865\n",
            "\n"
          ]
        },
        {
          "output_type": "display_data",
          "data": {
            "text/plain": [
              "<Figure size 1000x800 with 2 Axes>"
            ],
            "image/png": "[encoded data removed]"
          },
          "metadata": {}
        },
        {
          "output_type": "stream",
          "name": "stdout",
          "text": [
            "--- SVM ---\n",
            "              precision    recall  f1-score   support\n",
            "\n",
            "        call       0.48      0.05      0.08       301\n",
            "     dislike       0.00      0.00      0.00       259\n",
            "        fist       0.00      0.00      0.00       189\n",
            "        four       0.18      1.00      0.30       327\n",
            "        like       0.80      0.01      0.03       287\n",
            "        mute       0.00      0.00      0.00       218\n",
            "          ok       0.00      0.00      0.00       284\n",
            "\n",
            "    accuracy                           0.18      1865\n",
            "   macro avg       0.21      0.15      0.06      1865\n",
            "weighted avg       0.23      0.18      0.07      1865\n",
            "\n"
          ]
        },
        {
          "output_type": "stream",
          "name": "stderr",
          "text": [
            "/usr/local/lib/python3.11/dist-packages/sklearn/metrics/_classification.py:1565: UndefinedMetricWarning: Precision is ill-defined and being set to 0.0 in labels with no predicted samples. Use `zero_division` parameter to control this behavior.\n",
            "  _warn_prf(average, modifier, f\"{metric.capitalize()} is\", len(result))\n",
            "/usr/local/lib/python3.11/dist-packages/sklearn/metrics/_classification.py:1565: UndefinedMetricWarning: Precision is ill-defined and being set to 0.0 in labels with no predicted samples. Use `zero_division` parameter to control this behavior.\n",
            "  _warn_prf(average, modifier, f\"{metric.capitalize()} is\", len(result))\n",
            "/usr/local/lib/python3.11/dist-packages/sklearn/metrics/_classification.py:1565: UndefinedMetricWarning: Precision is ill-defined and being set to 0.0 in labels with no predicted samples. Use `zero_division` parameter to control this behavior.\n",
            "  _warn_prf(average, modifier, f\"{metric.capitalize()} is\", len(result))\n"
          ]
        },
        {
          "output_type": "display_data",
          "data": {
            "text/plain": [
              "<Figure size 1000x800 with 2 Axes>"
            ],
            "image/png": "[encoded data removed]"
          },
          "metadata": {}
        },
        {
          "output_type": "stream",
          "name": "stdout",
          "text": [
            "--- KNN ---\n",
            "              precision    recall  f1-score   support\n",
            "\n",
            "        call       0.96      0.95      0.95       301\n",
            "     dislike       0.93      0.88      0.91       259\n",
            "        fist       1.00      0.99      0.99       189\n",
            "        four       1.00      0.99      0.99       327\n",
            "        like       0.87      0.92      0.89       287\n",
            "        mute       1.00      1.00      1.00       218\n",
            "          ok       0.98      1.00      0.99       284\n",
            "\n",
            "    accuracy                           0.96      1865\n",
            "   macro avg       0.96      0.96      0.96      1865\n",
            "weighted avg       0.96      0.96      0.96      1865\n",
            "\n"
          ]
        },
        {
          "output_type": "display_data",
          "data": {
            "text/plain": [
              "<Figure size 1000x800 with 2 Axes>"
            ],
            "image/png": "[encoded data removed]"
          },
          "metadata": {}
        }
      ]
    },
    {
      "cell_type": "code",
      "source": [
        "from sklearn.linear_model import LogisticRegression\n",
        "from sklearn.tree import DecisionTreeClassifier\n",
        "from sklearn.ensemble import GradientBoostingClassifier\n",
        "from sklearn.metrics import accuracy_score\n",
        "\n",
        "# Initializing models\n",
        "models = {\n",
        "    \"Logistic Regression\": LogisticRegression(max_iter=1000),\n",
        "    \"Decision Tree\": DecisionTreeClassifier(random_state=42),\n",
        "    \"Gradient Boosting\": GradientBoostingClassifier(random_state=42)\n",
        "}\n",
        "\n",
        "# Training and evaluating models\n",
        "results = {}\n",
        "for model_name, model in models.items():\n",
        "    model.fit(X_train, y_train)\n",
        "    y_pred = model.predict(X_test)\n",
        "    accuracy = accuracy_score(y_test, y_pred)\n",
        "    results[model_name] = accuracy\n",
        "\n",
        "# Displaying results\n",
        "for model_name, accuracy in results.items():\n",
        "    print(f\"{model_name} Accuracy: {accuracy:.4f}\")"
      ],
      "metadata": {
        "colab": {
          "base_uri": "https://localhost:8080/"
        },
        "id": "qwzLrvqXnURa",
        "outputId": "ea204889-d978-441e-97e6-ea16d133601d"
      },
      "execution_count": 29,
      "outputs": [
        {
          "output_type": "stream",
          "name": "stderr",
          "text": [
            "/usr/local/lib/python3.11/dist-packages/sklearn/linear_model/_logistic.py:465: ConvergenceWarning: lbfgs failed to converge (status=1):\n",
            "STOP: TOTAL NO. of ITERATIONS REACHED LIMIT.\n",
            "\n",
            "Increase the number of iterations (max_iter) or scale the data as shown in:\n",
            "    https://scikit-learn.org/stable/modules/preprocessing.html\n",
            "Please also refer to the documentation for alternative solver options:\n",
            "    https://scikit-learn.org/stable/modules/linear_model.html#logistic-regression\n",
            "  n_iter_i = _check_optimize_result(\n"
          ]
        },
        {
          "output_type": "stream",
          "name": "stdout",
          "text": [
            "Logistic Regression Accuracy: 0.8654\n",
            "Decision Tree Accuracy: 0.9743\n",
            "Gradient Boosting Accuracy: 0.9893\n"
          ]
        }
      ]
    },
    {
      "cell_type": "markdown",
      "source": [
        "# **Conclusion**:\n",
        "\n",
        "Based on the evaluation results, the RandomForestClassifier achieved the best performance in terms of accuracy and robustness compared to other models tested.\n",
        "It demonstrated better generalization on the test set and was more stable during training, making it the most suitable choice for hand gesture classification using MediaPipe landmarks."
      ],
      "metadata": {
        "id": "R6yY2VfxcmNT"
      }
    },
    {
      "cell_type": "code",
      "source": [
        "pip install mediapipe==0.10.7"
      ],
      "metadata": {
        "collapsed": true,
        "colab": {
          "base_uri": "https://localhost:8080/",
          "height": 811
        },
        "id": "6fFOs5OmgcOb",
        "outputId": "d1bdddc1-6df3-499c-f322-bc858b8534fe"
      },
      "execution_count": 26,
      "outputs": [
        {
          "output_type": "stream",
          "name": "stdout",
          "text": [
            "Collecting mediapipe==0.10.7\n",
            "  Using cached mediapipe-0.10.7-cp311-cp311-manylinux_2_17_x86_64.manylinux2014_x86_64.whl.metadata (9.6 kB)\n",
            "Requirement already satisfied: absl-py in /usr/local/lib/python3.11/dist-packages (from mediapipe==0.10.7) (1.4.0)\n",
            "Requirement already satisfied: attrs>=19.1.0 in /usr/local/lib/python3.11/dist-packages (from mediapipe==0.10.7) (25.3.0)\n",
            "Requirement already satisfied: flatbuffers>=2.0 in /usr/local/lib/python3.11/dist-packages (from mediapipe==0.10.7) (25.2.10)\n",
            "Requirement already satisfied: matplotlib in /usr/local/lib/python3.11/dist-packages (from mediapipe==0.10.7) (3.10.0)\n",
            "Requirement already satisfied: numpy in /usr/local/lib/python3.11/dist-packages (from mediapipe==0.10.7) (1.26.4)\n",
            "Requirement already satisfied: opencv-contrib-python in /usr/local/lib/python3.11/dist-packages (from mediapipe==0.10.7) (4.11.0.86)\n",
            "Collecting protobuf<4,>=3.11 (from mediapipe==0.10.7)\n",
            "  Using cached protobuf-3.20.3-py2.py3-none-any.whl.metadata (720 bytes)\n",
            "Requirement already satisfied: sounddevice>=0.4.4 in /usr/local/lib/python3.11/dist-packages (from mediapipe==0.10.7) (0.5.1)\n",
            "Requirement already satisfied: CFFI>=1.0 in /usr/local/lib/python3.11/dist-packages (from sounddevice>=0.4.4->mediapipe==0.10.7) (1.17.1)\n",
            "Requirement already satisfied: contourpy>=1.0.1 in /usr/local/lib/python3.11/dist-packages (from matplotlib->mediapipe==0.10.7) (1.3.1)\n",
            "Requirement already satisfied: cycler>=0.10 in /usr/local/lib/python3.11/dist-packages (from matplotlib->mediapipe==0.10.7) (0.12.1)\n",
            "Requirement already satisfied: fonttools>=4.22.0 in /usr/local/lib/python3.11/dist-packages (from matplotlib->mediapipe==0.10.7) (4.56.0)\n",
            "Requirement already satisfied: kiwisolver>=1.3.1 in /usr/local/lib/python3.11/dist-packages (from matplotlib->mediapipe==0.10.7) (1.4.8)\n",
            "Requirement already satisfied: packaging>=20.0 in /usr/local/lib/python3.11/dist-packages (from matplotlib->mediapipe==0.10.7) (24.2)\n",
            "Requirement already satisfied: pillow>=8 in /usr/local/lib/python3.11/dist-packages (from matplotlib->mediapipe==0.10.7) (11.1.0)\n",
            "Requirement already satisfied: pyparsing>=2.3.1 in /usr/local/lib/python3.11/dist-packages (from matplotlib->mediapipe==0.10.7) (3.2.3)\n",
            "Requirement already satisfied: python-dateutil>=2.7 in /usr/local/lib/python3.11/dist-packages (from matplotlib->mediapipe==0.10.7) (2.8.2)\n",
            "Requirement already satisfied: pycparser in /usr/local/lib/python3.11/dist-packages (from CFFI>=1.0->sounddevice>=0.4.4->mediapipe==0.10.7) (2.22)\n",
            "Requirement already satisfied: six>=1.5 in /usr/local/lib/python3.11/dist-packages (from python-dateutil>=2.7->matplotlib->mediapipe==0.10.7) (1.17.0)\n",
            "Using cached mediapipe-0.10.7-cp311-cp311-manylinux_2_17_x86_64.manylinux2014_x86_64.whl (33.6 MB)\n",
            "Using cached protobuf-3.20.3-py2.py3-none-any.whl (162 kB)\n",
            "Installing collected packages: protobuf, mediapipe\n",
            "  Attempting uninstall: protobuf\n",
            "    Found existing installation: protobuf 4.25.6\n",
            "    Uninstalling protobuf-4.25.6:\n",
            "      Successfully uninstalled protobuf-4.25.6\n",
            "  Attempting uninstall: mediapipe\n",
            "    Found existing installation: mediapipe 0.10.21\n",
            "    Uninstalling mediapipe-0.10.21:\n",
            "      Successfully uninstalled mediapipe-0.10.21\n",
            "\u001b[31mERROR: pip's dependency resolver does not currently take into account all the packages that are installed. This behaviour is the source of the following dependency conflicts.\n",
            "tensorflow-metadata 1.16.1 requires protobuf<6.0.0dev,>=4.25.2; python_version >= \"3.11\", but you have protobuf 3.20.3 which is incompatible.\n",
            "grpcio-status 1.71.0 requires protobuf<6.0dev,>=5.26.1, but you have protobuf 3.20.3 which is incompatible.\u001b[0m\u001b[31m\n",
            "\u001b[0mSuccessfully installed mediapipe-0.10.7 protobuf-3.20.3\n"
          ]
        },
        {
          "output_type": "display_data",
          "data": {
            "application/vnd.colab-display-data+json": {
              "pip_warning": {
                "packages": [
                  "google"
                ]
              },
              "id": "615bf731a1b7470bbe8305329a5f62ec"
            }
          },
          "metadata": {}
        }
      ]
    },
    {
      "cell_type": "code",
      "source": [
        "import cv2\n",
        "import mediapipe as mp\n",
        "from scipy.stats import mode"
      ],
      "metadata": {
        "id": "VL5a-9yic7od"
      },
      "execution_count": 19,
      "outputs": []
    },
    {
      "cell_type": "code",
      "source": [
        "# إعداد mediapipe\n",
        "mp_hands = mp.solutions.hands\n",
        "mp_drawing = mp.solutions.drawing_utils\n",
        "\n",
        "# تهيئة الفيديو\n",
        "input_path = \"/content/WIN_20250405_17_32_36_Pro.mp4\"  # عدّل هذا حسب الفيديو\n",
        "output_path = \"/content/output_video.mp4\"\n",
        "\n",
        "cap = cv2.VideoCapture(input_path)\n",
        "width = int(cap.get(cv2.CAP_PROP_FRAME_WIDTH))\n",
        "height = int(cap.get(cv2.CAP_PROP_FRAME_HEIGHT))\n",
        "fps = int(cap.get(cv2.CAP_PROP_FPS))\n",
        "\n",
        "out = cv2.VideoWriter(output_path, cv2.VideoWriter_fourcc(*'mp4v'), fps, (width, height))\n",
        "\n",
        "# نافذة للتثبيت (stabilization)\n",
        "prediction_window = []"
      ],
      "metadata": {
        "id": "8zC4tqF2gHDn"
      },
      "execution_count": 25,
      "outputs": []
    },
    {
      "cell_type": "code",
      "source": [
        "with mp_hands.Hands(static_image_mode=False,\n",
        "                    max_num_hands=1,\n",
        "                    min_detection_confidence=0.7,\n",
        "                    min_tracking_confidence=0.5) as hands:\n",
        "    while cap.isOpened():\n",
        "        ret, frame = cap.read()\n",
        "        if not ret:\n",
        "            break\n",
        "\n",
        "        # المعالجة\n",
        "        image = cv2.cvtColor(frame, cv2.COLOR_BGR2RGB)\n",
        "        results = hands.process(image)\n",
        "\n",
        "        label = None\n",
        "        if results.multi_hand_landmarks:\n",
        "            hand_landmarks = results.multi_hand_landmarks[0]\n",
        "            landmark_list = []\n",
        "\n",
        "            for lm in hand_landmarks.landmark:\n",
        "                landmark_list.extend([lm.x, lm.y, lm.z])\n",
        "\n",
        "            # تحويل النسبي إلى بكسل\n",
        "            coords = np.array(landmark_list)\n",
        "            coords[0::3] *= width\n",
        "            coords[1::3] *= height\n",
        "\n",
        "            # إعادة المعالجة كما في التدريب\n",
        "            processed = preprocess_landmarks(coords)\n",
        "            prediction = rf.predict([processed])[0]\n",
        "            prediction_window.append(prediction)\n",
        "\n",
        "            # تثبيت التوقعات باستخدام النافذة\n",
        "            if len(prediction_window) > 5:\n",
        "                prediction_window.pop(0)\n",
        "\n",
        "            # الحصول على القيمة الأكثر تكرارًا في نافذة التوقعات\n",
        "            mode_prediction = mode(prediction_window)\n",
        "            # تحقق مما إذا كانت هناك قيمة واحدة أو أكثر\n",
        "            if isinstance(mode_prediction.mode, np.ndarray) and len(mode_prediction.mode) > 0:\n",
        "                # أخذ أول قيمة من المصفوفة إذا كان هناك أكثر من قيمة\n",
        "                label = le.inverse_transform([mode_prediction.mode[0]])[0]\n",
        "            else:\n",
        "                # في حال كانت هناك قيمة واحدة فقط، مباشرة استخدمها\n",
        "                label = le.inverse_transform([mode_prediction.mode])[0]\n",
        "\n",
        "            # رسم التسمية\n",
        "            cv2.putText(frame, f'Prediction: {label}', (10, 30),\n",
        "                        cv2.FONT_HERSHEY_SIMPLEX, 1, (0, 255, 0), 2)\n",
        "\n",
        "            # رسم اليد\n",
        "            mp_drawing.draw_landmarks(frame, hand_landmarks, mp_hands.HAND_CONNECTIONS)\n",
        "\n",
        "        out.write(frame)\n",
        "\n",
        "cap.release()\n",
        "out.release()\n",
        "cv2.destroyAllWindows()\n",
        "print(f\"Output video saved to: {output_path}\")"
      ],
      "metadata": {
        "colab": {
          "base_uri": "https://localhost:8080/"
        },
        "id": "fXDCY24Fg2x_",
        "outputId": "5d6d27eb-d07b-40fd-f621-e6ab9a0091be"
      },
      "execution_count": 27,
      "outputs": [
        {
          "output_type": "stream",
          "name": "stdout",
          "text": [
            "Output video saved to: /content/output_video.mp4\n"
          ]
        }
      ]
    },
    {
      "cell_type": "code",
      "source": [
        "import cv2\n",
        "import mediapipe as mp\n",
        "from scipy.stats import mode\n",
        "from sklearn.ensemble import GradientBoostingClassifier\n",
        "import numpy as np\n",
        "\n",
        "mp_hands = mp.solutions.hands\n",
        "mp_drawing = mp.solutions.drawing_utils\n",
        "\n",
        "input_path = \"/content/WIN_20250405_17_32_36_Pro.mp4\"\n",
        "output_path = \"/content/output_video.mp4\"\n",
        "\n",
        "cap = cv2.VideoCapture(input_path)\n",
        "width = int(cap.get(cv2.CAP_PROP_FRAME_WIDTH))\n",
        "height = int(cap.get(cv2.CAP_PROP_FRAME_HEIGHT))\n",
        "fps = int(cap.get(cv2.CAP_PROP_FPS))\n",
        "\n",
        "out = cv2.VideoWriter(output_path, cv2.VideoWriter_fourcc(*'mp4v'), fps, (width, height))\n",
        "\n",
        "prediction_window = []\n",
        "\n",
        "gb_model = GradientBoostingClassifier(random_state=42)\n",
        "gb_model.fit(X_train, y_train)\n",
        "\n",
        "with mp_hands.Hands(static_image_mode=False,\n",
        "                    max_num_hands=1,\n",
        "                    min_detection_confidence=0.7,\n",
        "                    min_tracking_confidence=0.5) as hands:\n",
        "    while cap.isOpened():\n",
        "        ret, frame = cap.read()\n",
        "        if not ret:\n",
        "            break\n",
        "\n",
        "        image = cv2.cvtColor(frame, cv2.COLOR_BGR2RGB)\n",
        "        results = hands.process(image)\n",
        "\n",
        "        label = None\n",
        "        if results.multi_hand_landmarks:\n",
        "            hand_landmarks = results.multi_hand_landmarks[0]\n",
        "            landmark_list = []\n",
        "\n",
        "            for lm in hand_landmarks.landmark:\n",
        "                landmark_list.extend([lm.x, lm.y, lm.z])\n",
        "\n",
        "            coords = np.array(landmark_list)\n",
        "            coords[0::3] *= width\n",
        "            coords[1::3] *= height\n",
        "\n",
        "            processed = preprocess_landmarks(coords)\n",
        "            prediction = gb_model.predict([processed])[0]\n",
        "            prediction_window.append(prediction)\n",
        "\n",
        "            if len(prediction_window) > 5:\n",
        "                prediction_window.pop(0)\n",
        "\n",
        "            mode_prediction = mode(prediction_window)\n",
        "            if isinstance(mode_prediction.mode, np.ndarray) and len(mode_prediction.mode) > 0:\n",
        "                label = le.inverse_transform([mode_prediction.mode[0]])[0]\n",
        "            else:\n",
        "                label = le.inverse_transform([mode_prediction.mode])[0]\n",
        "\n",
        "            cv2.putText(frame, f'Prediction: {label}', (10, 30),\n",
        "                        cv2.FONT_HERSHEY_SIMPLEX, 1, (0, 255, 0), 2)\n",
        "\n",
        "            mp_drawing.draw_landmarks(frame, hand_landmarks, mp_hands.HAND_CONNECTIONS)\n",
        "\n",
        "        out.write(frame)\n",
        "\n",
        "cap.release()\n",
        "out.release()\n",
        "cv2.destroyAllWindows()\n",
        "print(f\"Output video saved to: {output_path}\")\n"
      ],
      "metadata": {
        "colab": {
          "base_uri": "https://localhost:8080/"
        },
        "id": "ekazAYjrhOCE",
        "outputId": "57f3aa2a-ecd1-4ca1-d9ff-f7ebe888229c"
      },
      "execution_count": 31,
      "outputs": [
        {
          "output_type": "stream",
          "name": "stdout",
          "text": [
            "Output video saved to: /content/output_video.mp4\n"
          ]
        }
      ]
    },
    {
      "cell_type": "code",
      "source": [],
      "metadata": {
        "id": "V8X9_INLp1ia"
      },
      "execution_count": null,
      "outputs": []
    }
  ]
}